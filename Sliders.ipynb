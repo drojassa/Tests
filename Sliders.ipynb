{
  "nbformat": 4,
  "nbformat_minor": 0,
  "metadata": {
    "colab": {
      "provenance": [],
      "authorship_tag": "ABX9TyPvSJIfyEaAGBeb7UXyTqpU",
      "include_colab_link": true
    },
    "kernelspec": {
      "name": "python3",
      "display_name": "Python 3"
    },
    "language_info": {
      "name": "python"
    },
    "widgets": {
      "application/vnd.jupyter.widget-state+json": {
        "29b4d5eb84664f5cb67a39c069882f81": {
          "model_module": "@jupyter-widgets/controls",
          "model_name": "VBoxModel",
          "model_module_version": "1.5.0",
          "state": {
            "_dom_classes": [
              "widget-interact"
            ],
            "_model_module": "@jupyter-widgets/controls",
            "_model_module_version": "1.5.0",
            "_model_name": "VBoxModel",
            "_view_count": null,
            "_view_module": "@jupyter-widgets/controls",
            "_view_module_version": "1.5.0",
            "_view_name": "VBoxView",
            "box_style": "",
            "children": [
              "IPY_MODEL_879a7feac8114693878f008f5ed38c76",
              "IPY_MODEL_a78c093269fd48c483ae7d2a6842c032",
              "IPY_MODEL_e3956ccfe5894afb813f027e18aeec85"
            ],
            "layout": "IPY_MODEL_821714a026354d31a4c282c781627dee"
          }
        },
        "879a7feac8114693878f008f5ed38c76": {
          "model_module": "@jupyter-widgets/controls",
          "model_name": "FloatSliderModel",
          "model_module_version": "1.5.0",
          "state": {
            "_dom_classes": [],
            "_model_module": "@jupyter-widgets/controls",
            "_model_module_version": "1.5.0",
            "_model_name": "FloatSliderModel",
            "_view_count": null,
            "_view_module": "@jupyter-widgets/controls",
            "_view_module_version": "1.5.0",
            "_view_name": "FloatSliderView",
            "continuous_update": true,
            "description": "freq",
            "description_tooltip": null,
            "disabled": false,
            "layout": "IPY_MODEL_61287d8942ad4dfbb822ea7c0671157d",
            "max": 5,
            "min": 1,
            "orientation": "horizontal",
            "readout": true,
            "readout_format": ".2f",
            "step": 0.5,
            "style": "IPY_MODEL_fcea08c91a67476a9d31b8d17ca79ff9",
            "value": 4.5
          }
        },
        "a78c093269fd48c483ae7d2a6842c032": {
          "model_module": "@jupyter-widgets/controls",
          "model_name": "FloatSliderModel",
          "model_module_version": "1.5.0",
          "state": {
            "_dom_classes": [],
            "_model_module": "@jupyter-widgets/controls",
            "_model_module_version": "1.5.0",
            "_model_name": "FloatSliderModel",
            "_view_count": null,
            "_view_module": "@jupyter-widgets/controls",
            "_view_module_version": "1.5.0",
            "_view_name": "FloatSliderView",
            "continuous_update": true,
            "description": "Amp",
            "description_tooltip": null,
            "disabled": false,
            "layout": "IPY_MODEL_63fdd899562d4deb89a3399cb1d7603f",
            "max": 5,
            "min": 1,
            "orientation": "horizontal",
            "readout": true,
            "readout_format": ".2f",
            "step": 0.5,
            "style": "IPY_MODEL_fff7957c9a3747e59c5d6300436cc80f",
            "value": 4.5
          }
        },
        "e3956ccfe5894afb813f027e18aeec85": {
          "model_module": "@jupyter-widgets/output",
          "model_name": "OutputModel",
          "model_module_version": "1.0.0",
          "state": {
            "_dom_classes": [],
            "_model_module": "@jupyter-widgets/output",
            "_model_module_version": "1.0.0",
            "_model_name": "OutputModel",
            "_view_count": null,
            "_view_module": "@jupyter-widgets/output",
            "_view_module_version": "1.0.0",
            "_view_name": "OutputView",
            "layout": "IPY_MODEL_758b413461f24b89b85fb5892b9f5900",
            "msg_id": "374490a7-1565-4561-b9c6-958f972a81ad",
            "outputs": [
              {
                "output_type": "display_data",
                "data": {
                  "text/plain": "<Figure size 432x288 with 1 Axes>",
                  "image/png": "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\n"
                },
                "metadata": {
                  "needs_background": "light"
                }
              }
            ]
          }
        },
        "821714a026354d31a4c282c781627dee": {
          "model_module": "@jupyter-widgets/base",
          "model_name": "LayoutModel",
          "model_module_version": "1.2.0",
          "state": {
            "_model_module": "@jupyter-widgets/base",
            "_model_module_version": "1.2.0",
            "_model_name": "LayoutModel",
            "_view_count": null,
            "_view_module": "@jupyter-widgets/base",
            "_view_module_version": "1.2.0",
            "_view_name": "LayoutView",
            "align_content": null,
            "align_items": null,
            "align_self": null,
            "border": null,
            "bottom": null,
            "display": null,
            "flex": null,
            "flex_flow": null,
            "grid_area": null,
            "grid_auto_columns": null,
            "grid_auto_flow": null,
            "grid_auto_rows": null,
            "grid_column": null,
            "grid_gap": null,
            "grid_row": null,
            "grid_template_areas": null,
            "grid_template_columns": null,
            "grid_template_rows": null,
            "height": null,
            "justify_content": null,
            "justify_items": null,
            "left": null,
            "margin": null,
            "max_height": null,
            "max_width": null,
            "min_height": null,
            "min_width": null,
            "object_fit": null,
            "object_position": null,
            "order": null,
            "overflow": null,
            "overflow_x": null,
            "overflow_y": null,
            "padding": null,
            "right": null,
            "top": null,
            "visibility": null,
            "width": null
          }
        },
        "61287d8942ad4dfbb822ea7c0671157d": {
          "model_module": "@jupyter-widgets/base",
          "model_name": "LayoutModel",
          "model_module_version": "1.2.0",
          "state": {
            "_model_module": "@jupyter-widgets/base",
            "_model_module_version": "1.2.0",
            "_model_name": "LayoutModel",
            "_view_count": null,
            "_view_module": "@jupyter-widgets/base",
            "_view_module_version": "1.2.0",
            "_view_name": "LayoutView",
            "align_content": null,
            "align_items": null,
            "align_self": null,
            "border": null,
            "bottom": null,
            "display": null,
            "flex": null,
            "flex_flow": null,
            "grid_area": null,
            "grid_auto_columns": null,
            "grid_auto_flow": null,
            "grid_auto_rows": null,
            "grid_column": null,
            "grid_gap": null,
            "grid_row": null,
            "grid_template_areas": null,
            "grid_template_columns": null,
            "grid_template_rows": null,
            "height": null,
            "justify_content": null,
            "justify_items": null,
            "left": null,
            "margin": null,
            "max_height": null,
            "max_width": null,
            "min_height": null,
            "min_width": null,
            "object_fit": null,
            "object_position": null,
            "order": null,
            "overflow": null,
            "overflow_x": null,
            "overflow_y": null,
            "padding": null,
            "right": null,
            "top": null,
            "visibility": null,
            "width": null
          }
        },
        "fcea08c91a67476a9d31b8d17ca79ff9": {
          "model_module": "@jupyter-widgets/controls",
          "model_name": "SliderStyleModel",
          "model_module_version": "1.5.0",
          "state": {
            "_model_module": "@jupyter-widgets/controls",
            "_model_module_version": "1.5.0",
            "_model_name": "SliderStyleModel",
            "_view_count": null,
            "_view_module": "@jupyter-widgets/base",
            "_view_module_version": "1.2.0",
            "_view_name": "StyleView",
            "description_width": "",
            "handle_color": null
          }
        },
        "63fdd899562d4deb89a3399cb1d7603f": {
          "model_module": "@jupyter-widgets/base",
          "model_name": "LayoutModel",
          "model_module_version": "1.2.0",
          "state": {
            "_model_module": "@jupyter-widgets/base",
            "_model_module_version": "1.2.0",
            "_model_name": "LayoutModel",
            "_view_count": null,
            "_view_module": "@jupyter-widgets/base",
            "_view_module_version": "1.2.0",
            "_view_name": "LayoutView",
            "align_content": null,
            "align_items": null,
            "align_self": null,
            "border": null,
            "bottom": null,
            "display": null,
            "flex": null,
            "flex_flow": null,
            "grid_area": null,
            "grid_auto_columns": null,
            "grid_auto_flow": null,
            "grid_auto_rows": null,
            "grid_column": null,
            "grid_gap": null,
            "grid_row": null,
            "grid_template_areas": null,
            "grid_template_columns": null,
            "grid_template_rows": null,
            "height": null,
            "justify_content": null,
            "justify_items": null,
            "left": null,
            "margin": null,
            "max_height": null,
            "max_width": null,
            "min_height": null,
            "min_width": null,
            "object_fit": null,
            "object_position": null,
            "order": null,
            "overflow": null,
            "overflow_x": null,
            "overflow_y": null,
            "padding": null,
            "right": null,
            "top": null,
            "visibility": null,
            "width": null
          }
        },
        "fff7957c9a3747e59c5d6300436cc80f": {
          "model_module": "@jupyter-widgets/controls",
          "model_name": "SliderStyleModel",
          "model_module_version": "1.5.0",
          "state": {
            "_model_module": "@jupyter-widgets/controls",
            "_model_module_version": "1.5.0",
            "_model_name": "SliderStyleModel",
            "_view_count": null,
            "_view_module": "@jupyter-widgets/base",
            "_view_module_version": "1.2.0",
            "_view_name": "StyleView",
            "description_width": "",
            "handle_color": null
          }
        },
        "758b413461f24b89b85fb5892b9f5900": {
          "model_module": "@jupyter-widgets/base",
          "model_name": "LayoutModel",
          "model_module_version": "1.2.0",
          "state": {
            "_model_module": "@jupyter-widgets/base",
            "_model_module_version": "1.2.0",
            "_model_name": "LayoutModel",
            "_view_count": null,
            "_view_module": "@jupyter-widgets/base",
            "_view_module_version": "1.2.0",
            "_view_name": "LayoutView",
            "align_content": null,
            "align_items": null,
            "align_self": null,
            "border": null,
            "bottom": null,
            "display": null,
            "flex": null,
            "flex_flow": null,
            "grid_area": null,
            "grid_auto_columns": null,
            "grid_auto_flow": null,
            "grid_auto_rows": null,
            "grid_column": null,
            "grid_gap": null,
            "grid_row": null,
            "grid_template_areas": null,
            "grid_template_columns": null,
            "grid_template_rows": null,
            "height": null,
            "justify_content": null,
            "justify_items": null,
            "left": null,
            "margin": null,
            "max_height": null,
            "max_width": null,
            "min_height": null,
            "min_width": null,
            "object_fit": null,
            "object_position": null,
            "order": null,
            "overflow": null,
            "overflow_x": null,
            "overflow_y": null,
            "padding": null,
            "right": null,
            "top": null,
            "visibility": null,
            "width": null
          }
        }
      }
    }
  },
  "cells": [
    {
      "cell_type": "markdown",
      "metadata": {
        "id": "view-in-github",
        "colab_type": "text"
      },
      "source": [
        "<a href=\"https://colab.research.google.com/github/drojassa/Tests/blob/main/Sliders.ipynb\" target=\"_parent\"><img src=\"https://colab.research.google.com/assets/colab-badge.svg\" alt=\"Open In Colab\"/></a>"
      ]
    },
    {
      "cell_type": "code",
      "execution_count": null,
      "metadata": {
        "id": "E0GymHPFwWDf",
        "outputId": "2bc5390f-a48a-4d8b-f52d-869151845360",
        "colab": {
          "base_uri": "https://localhost:8080/",
          "height": 346,
          "referenced_widgets": [
            "29b4d5eb84664f5cb67a39c069882f81",
            "879a7feac8114693878f008f5ed38c76",
            "a78c093269fd48c483ae7d2a6842c032",
            "e3956ccfe5894afb813f027e18aeec85",
            "821714a026354d31a4c282c781627dee",
            "61287d8942ad4dfbb822ea7c0671157d",
            "fcea08c91a67476a9d31b8d17ca79ff9",
            "63fdd899562d4deb89a3399cb1d7603f",
            "fff7957c9a3747e59c5d6300436cc80f",
            "758b413461f24b89b85fb5892b9f5900"
          ]
        }
      },
      "outputs": [
        {
          "output_type": "display_data",
          "data": {
            "text/plain": [
              "interactive(children=(FloatSlider(value=5.0, description='freq', max=5.0, min=1.0, step=0.5), FloatSlider(valu…"
            ],
            "application/vnd.jupyter.widget-view+json": {
              "version_major": 2,
              "version_minor": 0,
              "model_id": "29b4d5eb84664f5cb67a39c069882f81"
            }
          },
          "metadata": {}
        },
        {
          "output_type": "execute_result",
          "data": {
            "text/plain": [
              "<function __main__.plot_func(freq, Amp)>"
            ]
          },
          "metadata": {},
          "execution_count": 6
        }
      ],
      "source": [
        "from ipywidgets import interact, interactive, fixed, interact_manual\n",
        "import ipywidgets as widgets\n",
        "\n",
        "import matplotlib.pyplot as plt\n",
        "%matplotlib inline\n",
        "\n",
        "import numpy as np\n",
        "\n",
        "def plot_func(freq, Amp):\n",
        "    x = np.linspace(0, 2*np.pi)\n",
        "    y = Amp*np.sin(x * freq)\n",
        "    plt.plot(x, y)\n",
        "\n",
        "interact(plot_func, freq = widgets.FloatSlider(value=7.5,min=1,max=5.0,step=0.5),Amp = widgets.FloatSlider(value=7.5,min=1,max=5.0,step=0.5))\n"
      ]
    },
    {
      "cell_type": "code",
      "source": [],
      "metadata": {
        "id": "_cR7uk58wW0Y"
      },
      "execution_count": null,
      "outputs": []
    }
  ]
}