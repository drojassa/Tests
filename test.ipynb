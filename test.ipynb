{
  "nbformat": 4,
  "nbformat_minor": 0,
  "metadata": {
    "colab": {
      "provenance": [],
      "authorship_tag": "ABX9TyPVvaHIVlcI7PeMSCm8KN0x",
      "include_colab_link": true
    },
    "kernelspec": {
      "name": "python3",
      "display_name": "Python 3"
    },
    "language_info": {
      "name": "python"
    }
  },
  "cells": [
    {
      "cell_type": "markdown",
      "metadata": {
        "id": "view-in-github",
        "colab_type": "text"
      },
      "source": [
        "<a href=\"https://colab.research.google.com/github/drojassa/Tests/blob/main/test.ipynb\" target=\"_parent\"><img src=\"https://colab.research.google.com/assets/colab-badge.svg\" alt=\"Open In Colab\"/></a>"
      ]
    },
    {
      "cell_type": "code",
      "execution_count": null,
      "metadata": {
        "colab": {
          "base_uri": "https://localhost:8080/"
        },
        "id": "TapenTiuaGP1",
        "outputId": "4a0fcd82-c500-473f-ae8b-16053b685f07"
      },
      "outputs": [
        {
          "output_type": "stream",
          "name": "stdout",
          "text": [
            "3.141592603589817\n",
            "20000001\n"
          ]
        }
      ],
      "source": [
        "tol = 1e-\n",
        "suma=0\n",
        "pi=3\n",
        "def absolut(x):\n",
        "  if x > 0:\n",
        "    return x\n",
        "  else:\n",
        "    return -x\n",
        "n=0\n",
        "while absolut(pi -suma) > tol:\n",
        "  pi=suma\n",
        "  suma+=((-1)**n)*4/(2*n+1)\n",
        "  n+=1\n",
        "\n",
        "print(pi)\n",
        "print(n)\n"
      ]
    },
    {
      "cell_type": "code",
      "source": [
        "178/18*178/60"
      ],
      "metadata": {
        "colab": {
          "base_uri": "https://localhost:8080/"
        },
        "id": "8LkHQFdmcdav",
        "outputId": "a78b429c-d079-456f-b165-80f0a7d61d3a"
      },
      "execution_count": null,
      "outputs": [
        {
          "output_type": "execute_result",
          "data": {
            "text/plain": [
              "29.33703703703704"
            ]
          },
          "metadata": {},
          "execution_count": 6
        }
      ]
    },
    {
      "cell_type": "code",
      "source": [
        "200000000/20000001"
      ],
      "metadata": {
        "colab": {
          "base_uri": "https://localhost:8080/"
        },
        "id": "NUFQNWEufGw3",
        "outputId": "1fd7acf9-f514-4a30-b6fa-6bc4204b3d5f"
      },
      "execution_count": null,
      "outputs": [
        {
          "output_type": "execute_result",
          "data": {
            "text/plain": [
              "9.999999500000024"
            ]
          },
          "metadata": {},
          "execution_count": 7
        }
      ]
    },
    {
      "cell_type": "code",
      "source": [],
      "metadata": {
        "id": "q4oP0cPKfuKV"
      },
      "execution_count": null,
      "outputs": []
    }
  ]
}