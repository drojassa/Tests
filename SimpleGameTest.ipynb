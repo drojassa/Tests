{
  "nbformat": 4,
  "nbformat_minor": 0,
  "metadata": {
    "colab": {
      "provenance": [],
      "authorship_tag": "ABX9TyNqx2W5VroIjplNoENxZraW",
      "include_colab_link": true
    },
    "kernelspec": {
      "name": "python3",
      "display_name": "Python 3"
    },
    "language_info": {
      "name": "python"
    }
  },
  "cells": [
    {
      "cell_type": "markdown",
      "metadata": {
        "id": "view-in-github",
        "colab_type": "text"
      },
      "source": [
        "<a href=\"https://colab.research.google.com/github/drojassa/Tests/blob/main/SimpleGameTest.ipynb\" target=\"_parent\"><img src=\"https://colab.research.google.com/assets/colab-badge.svg\" alt=\"Open In Colab\"/></a>"
      ]
    },
    {
      "cell_type": "code",
      "execution_count": null,
      "metadata": {
        "id": "l8gj1ZZnR1cD",
        "outputId": "884c75a7-1d66-4416-c7cf-62aecc5fc048",
        "colab": {
          "base_uri": "https://localhost:8080/",
          "height": 269
        }
      },
      "outputs": [
        {
          "output_type": "stream",
          "name": "stdout",
          "text": [
            "pygame 2.3.0 (SDL 2.24.2, Python 3.9.16)\n",
            "Hello from the pygame community. https://www.pygame.org/contribute.html\n"
          ]
        },
        {
          "output_type": "error",
          "ename": "error",
          "evalue": "ignored",
          "traceback": [
            "\u001b[0;31m---------------------------------------------------------------------------\u001b[0m",
            "\u001b[0;31merror\u001b[0m                                     Traceback (most recent call last)",
            "\u001b[0;32m<ipython-input-1-54eee9187c53>\u001b[0m in \u001b[0;36m<cell line: 10>\u001b[0;34m()\u001b[0m\n\u001b[1;32m      8\u001b[0m \u001b[0;31m# Creamos la ventana\u001b[0m\u001b[0;34m\u001b[0m\u001b[0;34m\u001b[0m\u001b[0m\n\u001b[1;32m      9\u001b[0m \u001b[0mtamaño_ventana\u001b[0m \u001b[0;34m=\u001b[0m \u001b[0;34m(\u001b[0m\u001b[0;36m800\u001b[0m\u001b[0;34m,\u001b[0m \u001b[0;36m600\u001b[0m\u001b[0;34m)\u001b[0m\u001b[0;34m\u001b[0m\u001b[0;34m\u001b[0m\u001b[0m\n\u001b[0;32m---> 10\u001b[0;31m \u001b[0mpantalla\u001b[0m \u001b[0;34m=\u001b[0m \u001b[0mpygame\u001b[0m\u001b[0;34m.\u001b[0m\u001b[0mdisplay\u001b[0m\u001b[0;34m.\u001b[0m\u001b[0mset_mode\u001b[0m\u001b[0;34m(\u001b[0m\u001b[0mtamaño_ventana\u001b[0m\u001b[0;34m)\u001b[0m\u001b[0;34m\u001b[0m\u001b[0;34m\u001b[0m\u001b[0m\n\u001b[0m\u001b[1;32m     11\u001b[0m \u001b[0mpygame\u001b[0m\u001b[0;34m.\u001b[0m\u001b[0mdisplay\u001b[0m\u001b[0;34m.\u001b[0m\u001b[0mset_caption\u001b[0m\u001b[0;34m(\u001b[0m\u001b[0;34m\"Mi Juego\"\u001b[0m\u001b[0;34m)\u001b[0m\u001b[0;34m\u001b[0m\u001b[0;34m\u001b[0m\u001b[0m\n\u001b[1;32m     12\u001b[0m \u001b[0;34m\u001b[0m\u001b[0m\n",
            "\u001b[0;31merror\u001b[0m: No available video device"
          ]
        }
      ],
      "source": [
        "import pygame\n",
        "pygame.init()\n",
        "\n",
        "# Definimos los colores que usaremos\n",
        "BLANCO = (255, 255, 255)\n",
        "NEGRO = (0, 0, 0)\n",
        "\n",
        "# Creamos la ventana\n",
        "tamaño_ventana = (800, 600)\n",
        "pantalla = pygame.display.set_mode(tamaño_ventana)\n",
        "pygame.display.set_caption(\"Mi Juego\")\n",
        "\n",
        "# Definimos los botones\n",
        "fuente = pygame.font.Font(None, 36)\n",
        "nueva_partida = fuente.render(\"Nueva Partida\", True, NEGRO)\n",
        "opciones = fuente.render(\"Opciones\", True, NEGRO)\n",
        "salir = fuente.render(\"Salir\", True, NEGRO)\n",
        "\n",
        "# Posicionamos los botones en la pantalla\n",
        "nueva_partida_rect = nueva_partida.get_rect(center=(400, 250))\n",
        "opciones_rect = opciones.get_rect(center=(400, 300))\n",
        "salir_rect = salir.get_rect(center=(400, 350))\n",
        "\n",
        "# Bucle principal\n",
        "hecho = False\n",
        "while not hecho:\n",
        "    # Eventos del teclado/ratón\n",
        "    for evento in pygame.event.get():\n",
        "        if evento.type == pygame.QUIT:\n",
        "            hecho = True\n",
        "        elif evento.type == pygame.MOUSEBUTTONDOWN:\n",
        "            # Si se hace click en uno de los botones\n",
        "            if nueva_partida_rect.collidepoint(evento.pos):\n",
        "                print(\"Nueva partida\")\n",
        "            elif opciones_rect.collidepoint(evento.pos):\n",
        "                print(\"Opciones\")\n",
        "            elif salir_rect.collidepoint(evento.pos):\n",
        "                hecho = True\n",
        "\n",
        "    # Limpiamos la pantalla y dibujamos los botones\n",
        "    pantalla.fill(BLANCO)\n",
        "    pantalla.blit(nueva_partida, nueva_partida_rect)\n",
        "    pantalla.blit(opciones, opciones_rect)\n",
        "    pantalla.blit(salir, salir_rect)\n",
        "\n",
        "    # Actualizamos la pantalla\n",
        "    pygame.display.flip()\n",
        "\n",
        "# Salimos del juego\n",
        "pygame.quit()"
      ]
    },
    {
      "cell_type": "code",
      "source": [],
      "metadata": {
        "id": "z0x7M1p4R2Mo"
      },
      "execution_count": null,
      "outputs": []
    }
  ]
}