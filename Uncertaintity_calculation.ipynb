{
  "nbformat": 4,
  "nbformat_minor": 0,
  "metadata": {
    "colab": {
      "provenance": [],
      "authorship_tag": "ABX9TyMLYWtAmjcSi73Aeg/56ch2",
      "include_colab_link": true
    },
    "kernelspec": {
      "name": "python3",
      "display_name": "Python 3"
    },
    "language_info": {
      "name": "python"
    }
  },
  "cells": [
    {
      "cell_type": "markdown",
      "metadata": {
        "id": "view-in-github",
        "colab_type": "text"
      },
      "source": [
        "<a href=\"https://colab.research.google.com/github/drojassa/Tests/blob/main/Uncertaintity_calculation.ipynb\" target=\"_parent\"><img src=\"https://colab.research.google.com/assets/colab-badge.svg\" alt=\"Open In Colab\"/></a>"
      ]
    },
    {
      "cell_type": "code",
      "execution_count": null,
      "metadata": {
        "colab": {
          "base_uri": "https://localhost:8080/"
        },
        "id": "1H0wM3xo48OF",
        "outputId": "290f0721-7fef-4c39-f6b9-fdb8ed045581"
      },
      "outputs": [
        {
          "output_type": "stream",
          "name": "stdout",
          "text": [
            "Collecting uncertainties\n",
            "  Downloading uncertainties-3.1.6-py2.py3-none-any.whl (98 kB)\n",
            "\u001b[?25l\r\u001b[K     |███▍                            | 10 kB 20.5 MB/s eta 0:00:01\r\u001b[K     |██████▊                         | 20 kB 24.0 MB/s eta 0:00:01\r\u001b[K     |██████████                      | 30 kB 27.4 MB/s eta 0:00:01\r\u001b[K     |█████████████▍                  | 40 kB 31.2 MB/s eta 0:00:01\r\u001b[K     |████████████████▊               | 51 kB 9.3 MB/s eta 0:00:01\r\u001b[K     |████████████████████            | 61 kB 10.6 MB/s eta 0:00:01\r\u001b[K     |███████████████████████▍        | 71 kB 11.8 MB/s eta 0:00:01\r\u001b[K     |██████████████████████████▊     | 81 kB 12.8 MB/s eta 0:00:01\r\u001b[K     |██████████████████████████████  | 92 kB 7.3 MB/s eta 0:00:01\r\u001b[K     |████████████████████████████████| 98 kB 3.8 MB/s \n",
            "\u001b[?25hRequirement already satisfied: future in /usr/local/lib/python3.7/dist-packages (from uncertainties) (0.16.0)\n",
            "Installing collected packages: uncertainties\n",
            "Successfully installed uncertainties-3.1.6\n"
          ]
        }
      ],
      "source": [
        "!pip install uncertainties\n",
        "\n"
      ]
    },
    {
      "cell_type": "code",
      "source": [
        "from uncertainties import ufloat"
      ],
      "metadata": {
        "id": "wRkfvfSV4_Wc"
      },
      "execution_count": null,
      "outputs": []
    },
    {
      "cell_type": "code",
      "source": [
        "mh=ufloat(53.8,0.1)\n",
        "ma=ufloat(72.5,0.1)\n",
        "tih=ufloat(61.0,0.5)\n",
        "tia=ufloat(18.5,0.5)\n",
        "tf=ufloat(22,0.5)\n",
        "\n",
        "ca=4.186\n",
        "\n",
        "ch=ma*ca*(tf-tia)/(mh*(tf-tih))\n",
        "ch"
      ],
      "metadata": {
        "colab": {
          "base_uri": "https://localhost:8080/"
        },
        "id": "UbFvhYr55fws",
        "outputId": "6ffcca9e-8253-4b5d-a3ad-303532a7bb99"
      },
      "execution_count": null,
      "outputs": [
        {
          "output_type": "execute_result",
          "data": {
            "text/plain": [
              "-0.5062422552664189+/-0.1071673348525806"
            ]
          },
          "metadata": {},
          "execution_count": 4
        }
      ]
    },
    {
      "cell_type": "code",
      "source": [
        "mm=ufloat(2.1,0.1)\n",
        "ma=ufloat(77.8,0.1)\n",
        "tim=ufloat(44,0.5)\n",
        "tia=ufloat(18.5,0.5)\n",
        "tf=ufloat(20,0.5)\n",
        "ca=4.186\n",
        "cm=ma*ca*(tf-tia)/(mm*(tf-tim))\n",
        "cm"
      ],
      "metadata": {
        "colab": {
          "base_uri": "https://localhost:8080/"
        },
        "id": "7cz9jG2q6OEE",
        "outputId": "f1d7cdd1-780b-4d00-f2ac-17183f439999"
      },
      "execution_count": null,
      "outputs": [
        {
          "output_type": "execute_result",
          "data": {
            "text/plain": [
              "-9.692583333333332+/-4.740935619953726"
            ]
          },
          "metadata": {},
          "execution_count": 8
        }
      ]
    },
    {
      "cell_type": "code",
      "source": [],
      "metadata": {
        "id": "CfcqrqhCtiVt"
      },
      "execution_count": null,
      "outputs": []
    }
  ]
}